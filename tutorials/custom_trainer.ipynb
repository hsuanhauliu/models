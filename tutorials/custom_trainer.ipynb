{
 "cells": [
  {
   "cell_type": "markdown",
   "id": "9fd074ce-3a20-4f33-9291-f7a33cc0ec3d",
   "metadata": {},
   "source": [
    "# Training Loop Example\n",
    "\n",
    "This notebook demonstrates how to implement a custom trainer class to simplify model training setup."
   ]
  },
  {
   "cell_type": "code",
   "execution_count": 1,
   "id": "2a7d149b-14a2-4a14-b400-8e1390632d5e",
   "metadata": {},
   "outputs": [
    {
     "data": {
      "text/html": [
       "\n",
       "      <iframe id=\"tensorboard-frame-8909e1092946aacb\" width=\"100%\" height=\"800\" frameborder=\"0\">\n",
       "      </iframe>\n",
       "      <script>\n",
       "        (function() {\n",
       "          const frame = document.getElementById(\"tensorboard-frame-8909e1092946aacb\");\n",
       "          const url = new URL(\"/\", window.location);\n",
       "          const port = 6006;\n",
       "          if (port) {\n",
       "            url.port = port;\n",
       "          }\n",
       "          frame.src = url;\n",
       "        })();\n",
       "      </script>\n",
       "    "
      ],
      "text/plain": [
       "<IPython.core.display.HTML object>"
      ]
     },
     "metadata": {},
     "output_type": "display_data"
    }
   ],
   "source": [
    "%load_ext tensorboard\n",
    "%tensorboard --logdir logs --port 6006 --bind_all"
   ]
  },
  {
   "cell_type": "code",
   "execution_count": 2,
   "id": "3f725f11-36cd-4d57-bdda-40853045a752",
   "metadata": {},
   "outputs": [
    {
     "name": "stderr",
     "output_type": "stream",
     "text": [
      "2025-10-13 03:39:34.710479: E external/local_xla/xla/stream_executor/cuda/cuda_fft.cc:477] Unable to register cuFFT factory: Attempting to register factory for plugin cuFFT when one has already been registered\n",
      "WARNING: All log messages before absl::InitializeLog() is called are written to STDERR\n",
      "E0000 00:00:1760326774.722870   14534 cuda_dnn.cc:8310] Unable to register cuDNN factory: Attempting to register factory for plugin cuDNN when one has already been registered\n",
      "E0000 00:00:1760326774.726738   14534 cuda_blas.cc:1418] Unable to register cuBLAS factory: Attempting to register factory for plugin cuBLAS when one has already been registered\n",
      "2025-10-13 03:39:34.738700: I tensorflow/core/platform/cpu_feature_guard.cc:210] This TensorFlow binary is optimized to use available CPU instructions in performance-critical operations.\n",
      "To enable the following instructions: AVX2 FMA, in other operations, rebuild TensorFlow with the appropriate compiler flags.\n"
     ]
    }
   ],
   "source": [
    "import torch\n",
    "import torch.nn as nn\n",
    "import torch.optim as optim\n",
    "from torch.utils.data import DataLoader, TensorDataset\n",
    "from torch.utils.tensorboard import SummaryWriter\n",
    "from tqdm import tqdm\n",
    "import time\n",
    "import numpy as np\n",
    "import datetime\n",
    "\n",
    "# --- Setup (Hyperparameters, Model, Data, etc.) ---\n",
    "\n",
    "# Hyperparameters\n",
    "epochs = 10\n",
    "learning_rate = 0.001\n",
    "batch_size = 64\n",
    "num_features = 10\n",
    "num_classes = 5\n",
    "\n",
    "# Define a simple neural network\n",
    "class SimpleNet(nn.Module):\n",
    "    def __init__(self):\n",
    "        super(SimpleNet, self).__init__()\n",
    "        self.layer1 = nn.Linear(num_features, 128)\n",
    "        self.relu = nn.ReLU()\n",
    "        self.layer2 = nn.Linear(128, num_classes)\n",
    "\n",
    "    def forward(self, x):\n",
    "        return self.layer2(self.relu(self.layer1(x)))\n",
    "\n",
    "# Create dummy data and DataLoaders\n",
    "# In a real scenario, you would load your actual dataset here\n",
    "X_train = torch.randn(1000, num_features)\n",
    "y_train = torch.randint(0, num_classes, (1000,))\n",
    "X_val = torch.randn(200, num_features)\n",
    "y_val = torch.randint(0, num_classes, (200,))\n",
    "\n",
    "train_dataset = TensorDataset(X_train, y_train)\n",
    "val_dataset = TensorDataset(X_val, y_val)\n",
    "\n",
    "train_loader = DataLoader(dataset=train_dataset, batch_size=batch_size, shuffle=True)\n",
    "val_loader = DataLoader(dataset=val_dataset, batch_size=batch_size)\n",
    "\n",
    "# Instantiate model, loss function, and optimizer\n",
    "device = torch.device(\"cuda\" if torch.cuda.is_available() else \"cpu\")\n",
    "model = SimpleNet().to(device)\n",
    "criterion = nn.CrossEntropyLoss()\n",
    "optimizer = optim.Adam(model.parameters(), lr=learning_rate)"
   ]
  },
  {
   "cell_type": "code",
   "execution_count": 3,
   "id": "563ea126-6aa3-4970-890f-15258145d197",
   "metadata": {},
   "outputs": [],
   "source": [
    "class Trainer:\n",
    "\n",
    "    def __init__(\n",
    "        self, model, optimizer, criterion, train_dataloader, device, val_dataloader=None, log_dir=None\n",
    "    ):\n",
    "        self._model = model\n",
    "        self._optimizer = optimizer\n",
    "        self._criterion = criterion\n",
    "        self._train_dataloader = train_dataloader\n",
    "        self._val_dataloader = val_dataloader\n",
    "        self._device = device\n",
    "        self._log_dir = log_dir\n",
    "\n",
    "    def _train_step(self, epoch, epochs, writer):\n",
    "        \"\"\"Training phase in an epoch.\"\"\"\n",
    "        self._model.train()\n",
    "        train_loss = 0.0\n",
    "        train_correct = 0\n",
    "        train_total = 0\n",
    "    \n",
    "        train_pbar = tqdm(self._train_dataloader, desc=f\"Epoch {epoch+1}/{epochs} [Train]\")\n",
    "        for i, (inputs, labels) in enumerate(train_pbar):\n",
    "            inputs, labels = inputs.to(self._device), labels.to(self._device)\n",
    "            \n",
    "            # Forward pass\n",
    "            outputs = self._model(inputs)\n",
    "            loss = self._criterion(outputs, labels)\n",
    "            \n",
    "            # Backward and optimize\n",
    "            optimizer.zero_grad()  # clear previous gradients\n",
    "            loss.backward()        # compute the gradient of the loss\n",
    "            optimizer.step()       # update the model parameters\n",
    "            \n",
    "            # Logging batch-level metrics\n",
    "            train_loss += loss.item()\n",
    "            _, predicted = torch.max(outputs.data, 1)\n",
    "            train_total += labels.size(0)\n",
    "            train_correct += (predicted == labels).sum().item()\n",
    "    \n",
    "            # Update tqdm progress bar description\n",
    "            train_pbar.set_postfix({'loss': loss.item()})\n",
    "            \n",
    "            # Log batch loss to TensorBoard\n",
    "            global_step = epoch * len(train_loader) + i\n",
    "            writer.add_scalar('Loss/train_batch', loss.item(), global_step)\n",
    "        \n",
    "        avg_train_loss = train_loss / len(train_loader)\n",
    "        train_accuracy = 100 * train_correct / train_total\n",
    "        print(f\"Train Loss: {avg_train_loss:.4f} | Train Accuracy: {train_accuracy:.2f}%\")\n",
    "        \n",
    "        writer.add_scalar('Loss/train_epoch', avg_train_loss, epoch)\n",
    "        writer.add_scalar('Accuracy/train_epoch', train_accuracy, epoch)\n",
    "\n",
    "    def _validation_step(self, epoch, epochs, writer):\n",
    "        \"\"\"Validation phase in an epoch.\"\"\"\n",
    "        self._model.eval()\n",
    "        val_loss = 0.0\n",
    "        val_correct = 0\n",
    "        val_total = 0\n",
    "        \n",
    "        with torch.no_grad():\n",
    "            val_pbar = tqdm(self._val_dataloader, desc=f\"Epoch {epoch+1}/{epochs} [Val]\")\n",
    "            for inputs, labels in val_pbar:\n",
    "                inputs, labels = inputs.to(device), labels.to(device)\n",
    "                outputs = model(inputs)\n",
    "                loss = self._criterion(outputs, labels)\n",
    "                \n",
    "                val_loss += loss.item()\n",
    "                _, predicted = torch.max(outputs.data, 1)\n",
    "                val_total += labels.size(0)\n",
    "                val_correct += (predicted == labels).sum().item()\n",
    "                val_pbar.set_postfix({'loss': loss.item()})\n",
    "        \n",
    "        avg_val_loss = val_loss / len(val_loader)\n",
    "        val_accuracy = 100 * val_correct / val_total\n",
    "        print(f\"Validation Loss: {avg_val_loss:.4f} | Val Accuracy: {val_accuracy:.2f}%\")\n",
    "        \n",
    "        writer.add_scalar('Loss/validation_epoch', avg_val_loss, epoch)\n",
    "        writer.add_scalar('Accuracy/validation_epoch', val_accuracy, epoch)\n",
    "\n",
    "    def train(self, epochs):\n",
    "        \"\"\"Main method to start the model training.\"\"\"\n",
    "        print(f\"Starting training on {self._device}...\")\n",
    "        log_dir = self._log_dir\n",
    "        if log_dir is None:\n",
    "            log_dir = f\"logs/fit/{datetime.datetime.now().strftime(\"%Y%m%d-%H%M%S\")}\"\n",
    "        writer = SummaryWriter(log_dir)\n",
    "        print(f\"Saving logs to {log_dir}\")\n",
    "\n",
    "        train_start_t = time.time()\n",
    "        for epoch in range(epochs):\n",
    "            # --- Training Phase ---\n",
    "            epoch_start_t = time.time()\n",
    "            self._train_step(epoch, epochs, writer)\n",
    "            train_epoch_stop_t = time.time()\n",
    "            \n",
    "            # --- Validation Phase ---\n",
    "            if self._val_dataloader:\n",
    "                self._validation_step(epoch, epochs, writer)\n",
    "            epoch_end_t = time.time()\n",
    "        \n",
    "            # --- End-of-Epoch Logging ---\n",
    "            train_duration = train_epoch_stop_t - epoch_start_t\n",
    "            val_duration = epoch_end_t - train_epoch_stop_t\n",
    "            epoch_duration = epoch_end_t - epoch_start_t\n",
    "            val_log = f\"Validation Time: {val_duration:.2f}s | \" if self._val_dataloader else \"\"\n",
    "            print(\n",
    "                f\"Epoch {epoch+1}/{epochs} | \"\n",
    "                f\"Train Time: {train_duration:.2f}s | {val_log}\"\n",
    "                f\"Epoch Time: {epoch_duration:.2f}s\")\n",
    "            writer.add_scalar('Learning_Rate', self._optimizer.param_groups[0]['lr'], epoch)\n",
    "\n",
    "        total_train_duration = time.time() - train_start_t\n",
    "        print(f\"Total Training Time: {str(datetime.timedelta(seconds=total_train_duration))} | {total_train_duration:.2f}s\")\n",
    "        print(\"Training complete.\")\n",
    "              \n",
    "        writer.close()"
   ]
  },
  {
   "cell_type": "code",
   "execution_count": 4,
   "id": "7a96bd93-4827-4a94-af73-b9bfb5ad4bed",
   "metadata": {},
   "outputs": [
    {
     "name": "stdout",
     "output_type": "stream",
     "text": [
      "Starting training on cuda...\n",
      "Saving logs to logs/fit/20251013-033937\n"
     ]
    },
    {
     "name": "stderr",
     "output_type": "stream",
     "text": [
      "Epoch 1/30 [Train]: 100%|██████████| 16/16 [00:00<00:00, 147.56it/s, loss=1.61]\n"
     ]
    },
    {
     "name": "stdout",
     "output_type": "stream",
     "text": [
      "Train Loss: 1.6274 | Train Accuracy: 21.20%\n"
     ]
    },
    {
     "name": "stderr",
     "output_type": "stream",
     "text": [
      "Epoch 1/30 [Val]: 100%|██████████| 4/4 [00:00<00:00, 796.45it/s, loss=1.65]\n"
     ]
    },
    {
     "name": "stdout",
     "output_type": "stream",
     "text": [
      "Validation Loss: 1.6196 | Val Accuracy: 20.00%\n",
      "Epoch 1/30 | Train Time: 0.11s | Validation Time: 0.01s | Epoch Time: 0.12s\n"
     ]
    },
    {
     "name": "stderr",
     "output_type": "stream",
     "text": [
      "Epoch 2/30 [Train]: 100%|██████████| 16/16 [00:00<00:00, 640.08it/s, loss=1.6]\n"
     ]
    },
    {
     "name": "stdout",
     "output_type": "stream",
     "text": [
      "Train Loss: 1.6068 | Train Accuracy: 23.10%\n"
     ]
    },
    {
     "name": "stderr",
     "output_type": "stream",
     "text": [
      "Epoch 2/30 [Val]: 100%|██████████| 4/4 [00:00<00:00, 1150.78it/s, loss=1.62]\n"
     ]
    },
    {
     "name": "stdout",
     "output_type": "stream",
     "text": [
      "Validation Loss: 1.6142 | Val Accuracy: 22.50%\n",
      "Epoch 2/30 | Train Time: 0.03s | Validation Time: 0.00s | Epoch Time: 0.03s\n"
     ]
    },
    {
     "name": "stderr",
     "output_type": "stream",
     "text": [
      "Epoch 3/30 [Train]: 100%|██████████| 16/16 [00:00<00:00, 650.83it/s, loss=1.58]\n"
     ]
    },
    {
     "name": "stdout",
     "output_type": "stream",
     "text": [
      "Train Loss: 1.5972 | Train Accuracy: 23.40%\n"
     ]
    },
    {
     "name": "stderr",
     "output_type": "stream",
     "text": [
      "Epoch 3/30 [Val]: 100%|██████████| 4/4 [00:00<00:00, 1158.49it/s, loss=1.64]\n"
     ]
    },
    {
     "name": "stdout",
     "output_type": "stream",
     "text": [
      "Validation Loss: 1.6166 | Val Accuracy: 22.00%\n",
      "Epoch 3/30 | Train Time: 0.03s | Validation Time: 0.00s | Epoch Time: 0.03s\n"
     ]
    },
    {
     "name": "stderr",
     "output_type": "stream",
     "text": [
      "Epoch 4/30 [Train]: 100%|██████████| 16/16 [00:00<00:00, 570.34it/s, loss=1.58]\n"
     ]
    },
    {
     "name": "stdout",
     "output_type": "stream",
     "text": [
      "Train Loss: 1.5895 | Train Accuracy: 27.00%\n"
     ]
    },
    {
     "name": "stderr",
     "output_type": "stream",
     "text": [
      "Epoch 4/30 [Val]: 100%|██████████| 4/4 [00:00<00:00, 933.57it/s, loss=1.63]\n"
     ]
    },
    {
     "name": "stdout",
     "output_type": "stream",
     "text": [
      "Validation Loss: 1.6192 | Val Accuracy: 22.50%\n",
      "Epoch 4/30 | Train Time: 0.03s | Validation Time: 0.01s | Epoch Time: 0.04s\n"
     ]
    },
    {
     "name": "stderr",
     "output_type": "stream",
     "text": [
      "Epoch 5/30 [Train]: 100%|██████████| 16/16 [00:00<00:00, 646.25it/s, loss=1.58]\n"
     ]
    },
    {
     "name": "stdout",
     "output_type": "stream",
     "text": [
      "Train Loss: 1.5842 | Train Accuracy: 27.30%\n"
     ]
    },
    {
     "name": "stderr",
     "output_type": "stream",
     "text": [
      "Epoch 5/30 [Val]: 100%|██████████| 4/4 [00:00<00:00, 1134.75it/s, loss=1.63]\n"
     ]
    },
    {
     "name": "stdout",
     "output_type": "stream",
     "text": [
      "Validation Loss: 1.6215 | Val Accuracy: 22.00%\n",
      "Epoch 5/30 | Train Time: 0.03s | Validation Time: 0.00s | Epoch Time: 0.03s\n"
     ]
    },
    {
     "name": "stderr",
     "output_type": "stream",
     "text": [
      "Epoch 6/30 [Train]: 100%|██████████| 16/16 [00:00<00:00, 642.20it/s, loss=1.58]\n"
     ]
    },
    {
     "name": "stdout",
     "output_type": "stream",
     "text": [
      "Train Loss: 1.5785 | Train Accuracy: 28.60%\n"
     ]
    },
    {
     "name": "stderr",
     "output_type": "stream",
     "text": [
      "Epoch 6/30 [Val]: 100%|██████████| 4/4 [00:00<00:00, 1162.90it/s, loss=1.64]\n"
     ]
    },
    {
     "name": "stdout",
     "output_type": "stream",
     "text": [
      "Validation Loss: 1.6256 | Val Accuracy: 19.50%\n",
      "Epoch 6/30 | Train Time: 0.03s | Validation Time: 0.00s | Epoch Time: 0.03s\n"
     ]
    },
    {
     "name": "stderr",
     "output_type": "stream",
     "text": [
      "Epoch 7/30 [Train]: 100%|██████████| 16/16 [00:00<00:00, 657.95it/s, loss=1.56]\n"
     ]
    },
    {
     "name": "stdout",
     "output_type": "stream",
     "text": [
      "Train Loss: 1.5734 | Train Accuracy: 28.00%\n"
     ]
    },
    {
     "name": "stderr",
     "output_type": "stream",
     "text": [
      "Epoch 7/30 [Val]: 100%|██████████| 4/4 [00:00<00:00, 1164.60it/s, loss=1.63]\n"
     ]
    },
    {
     "name": "stdout",
     "output_type": "stream",
     "text": [
      "Validation Loss: 1.6212 | Val Accuracy: 21.00%\n",
      "Epoch 7/30 | Train Time: 0.03s | Validation Time: 0.00s | Epoch Time: 0.03s\n"
     ]
    },
    {
     "name": "stderr",
     "output_type": "stream",
     "text": [
      "Epoch 8/30 [Train]: 100%|██████████| 16/16 [00:00<00:00, 630.09it/s, loss=1.58]\n"
     ]
    },
    {
     "name": "stdout",
     "output_type": "stream",
     "text": [
      "Train Loss: 1.5704 | Train Accuracy: 28.20%\n"
     ]
    },
    {
     "name": "stderr",
     "output_type": "stream",
     "text": [
      "Epoch 8/30 [Val]: 100%|██████████| 4/4 [00:00<00:00, 1169.14it/s, loss=1.62]\n"
     ]
    },
    {
     "name": "stdout",
     "output_type": "stream",
     "text": [
      "Validation Loss: 1.6257 | Val Accuracy: 21.00%\n",
      "Epoch 8/30 | Train Time: 0.03s | Validation Time: 0.01s | Epoch Time: 0.03s\n"
     ]
    },
    {
     "name": "stderr",
     "output_type": "stream",
     "text": [
      "Epoch 9/30 [Train]: 100%|██████████| 16/16 [00:00<00:00, 620.96it/s, loss=1.56]\n"
     ]
    },
    {
     "name": "stdout",
     "output_type": "stream",
     "text": [
      "Train Loss: 1.5660 | Train Accuracy: 29.10%\n"
     ]
    },
    {
     "name": "stderr",
     "output_type": "stream",
     "text": [
      "Epoch 9/30 [Val]: 100%|██████████| 4/4 [00:00<00:00, 1020.14it/s, loss=1.63]\n"
     ]
    },
    {
     "name": "stdout",
     "output_type": "stream",
     "text": [
      "Validation Loss: 1.6279 | Val Accuracy: 21.00%\n",
      "Epoch 9/30 | Train Time: 0.03s | Validation Time: 0.01s | Epoch Time: 0.03s\n"
     ]
    },
    {
     "name": "stderr",
     "output_type": "stream",
     "text": [
      "Epoch 10/30 [Train]: 100%|██████████| 16/16 [00:00<00:00, 564.11it/s, loss=1.54]\n"
     ]
    },
    {
     "name": "stdout",
     "output_type": "stream",
     "text": [
      "Train Loss: 1.5611 | Train Accuracy: 29.10%\n"
     ]
    },
    {
     "name": "stderr",
     "output_type": "stream",
     "text": [
      "Epoch 10/30 [Val]: 100%|██████████| 4/4 [00:00<00:00, 1141.85it/s, loss=1.63]\n"
     ]
    },
    {
     "name": "stdout",
     "output_type": "stream",
     "text": [
      "Validation Loss: 1.6320 | Val Accuracy: 22.00%\n",
      "Epoch 10/30 | Train Time: 0.03s | Validation Time: 0.01s | Epoch Time: 0.04s\n"
     ]
    },
    {
     "name": "stderr",
     "output_type": "stream",
     "text": [
      "Epoch 11/30 [Train]: 100%|██████████| 16/16 [00:00<00:00, 637.17it/s, loss=1.59]\n"
     ]
    },
    {
     "name": "stdout",
     "output_type": "stream",
     "text": [
      "Train Loss: 1.5593 | Train Accuracy: 29.20%\n"
     ]
    },
    {
     "name": "stderr",
     "output_type": "stream",
     "text": [
      "Epoch 11/30 [Val]: 100%|██████████| 4/4 [00:00<00:00, 1161.94it/s, loss=1.63]\n"
     ]
    },
    {
     "name": "stdout",
     "output_type": "stream",
     "text": [
      "Validation Loss: 1.6310 | Val Accuracy: 21.00%\n",
      "Epoch 11/30 | Train Time: 0.03s | Validation Time: 0.01s | Epoch Time: 0.03s\n"
     ]
    },
    {
     "name": "stderr",
     "output_type": "stream",
     "text": [
      "Epoch 12/30 [Train]: 100%|██████████| 16/16 [00:00<00:00, 660.16it/s, loss=1.57]\n"
     ]
    },
    {
     "name": "stdout",
     "output_type": "stream",
     "text": [
      "Train Loss: 1.5538 | Train Accuracy: 30.10%\n"
     ]
    },
    {
     "name": "stderr",
     "output_type": "stream",
     "text": [
      "Epoch 12/30 [Val]: 100%|██████████| 4/4 [00:00<00:00, 1149.20it/s, loss=1.63]\n"
     ]
    },
    {
     "name": "stdout",
     "output_type": "stream",
     "text": [
      "Validation Loss: 1.6345 | Val Accuracy: 20.50%\n",
      "Epoch 12/30 | Train Time: 0.03s | Validation Time: 0.01s | Epoch Time: 0.03s\n"
     ]
    },
    {
     "name": "stderr",
     "output_type": "stream",
     "text": [
      "Epoch 13/30 [Train]: 100%|██████████| 16/16 [00:00<00:00, 640.90it/s, loss=1.48]\n"
     ]
    },
    {
     "name": "stdout",
     "output_type": "stream",
     "text": [
      "Train Loss: 1.5488 | Train Accuracy: 31.40%\n"
     ]
    },
    {
     "name": "stderr",
     "output_type": "stream",
     "text": [
      "Epoch 13/30 [Val]: 100%|██████████| 4/4 [00:00<00:00, 1161.13it/s, loss=1.62]\n"
     ]
    },
    {
     "name": "stdout",
     "output_type": "stream",
     "text": [
      "Validation Loss: 1.6314 | Val Accuracy: 19.00%\n",
      "Epoch 13/30 | Train Time: 0.03s | Validation Time: 0.00s | Epoch Time: 0.03s\n"
     ]
    },
    {
     "name": "stderr",
     "output_type": "stream",
     "text": [
      "Epoch 14/30 [Train]: 100%|██████████| 16/16 [00:00<00:00, 644.62it/s, loss=1.51]\n"
     ]
    },
    {
     "name": "stdout",
     "output_type": "stream",
     "text": [
      "Train Loss: 1.5457 | Train Accuracy: 30.50%\n"
     ]
    },
    {
     "name": "stderr",
     "output_type": "stream",
     "text": [
      "Epoch 14/30 [Val]: 100%|██████████| 4/4 [00:00<00:00, 1165.49it/s, loss=1.63]\n"
     ]
    },
    {
     "name": "stdout",
     "output_type": "stream",
     "text": [
      "Validation Loss: 1.6321 | Val Accuracy: 20.00%\n",
      "Epoch 14/30 | Train Time: 0.03s | Validation Time: 0.01s | Epoch Time: 0.03s\n"
     ]
    },
    {
     "name": "stderr",
     "output_type": "stream",
     "text": [
      "Epoch 15/30 [Train]: 100%|██████████| 16/16 [00:00<00:00, 661.05it/s, loss=1.53]\n"
     ]
    },
    {
     "name": "stdout",
     "output_type": "stream",
     "text": [
      "Train Loss: 1.5423 | Train Accuracy: 31.00%\n"
     ]
    },
    {
     "name": "stderr",
     "output_type": "stream",
     "text": [
      "Epoch 15/30 [Val]: 100%|██████████| 4/4 [00:00<00:00, 1147.87it/s, loss=1.62]\n"
     ]
    },
    {
     "name": "stdout",
     "output_type": "stream",
     "text": [
      "Validation Loss: 1.6312 | Val Accuracy: 20.50%\n",
      "Epoch 15/30 | Train Time: 0.03s | Validation Time: 0.00s | Epoch Time: 0.03s\n"
     ]
    },
    {
     "name": "stderr",
     "output_type": "stream",
     "text": [
      "Epoch 16/30 [Train]: 100%|██████████| 16/16 [00:00<00:00, 638.99it/s, loss=1.56]\n"
     ]
    },
    {
     "name": "stdout",
     "output_type": "stream",
     "text": [
      "Train Loss: 1.5386 | Train Accuracy: 31.60%\n"
     ]
    },
    {
     "name": "stderr",
     "output_type": "stream",
     "text": [
      "Epoch 16/30 [Val]: 100%|██████████| 4/4 [00:00<00:00, 1109.09it/s, loss=1.61]\n"
     ]
    },
    {
     "name": "stdout",
     "output_type": "stream",
     "text": [
      "Validation Loss: 1.6305 | Val Accuracy: 21.50%\n",
      "Epoch 16/30 | Train Time: 0.03s | Validation Time: 0.01s | Epoch Time: 0.03s\n"
     ]
    },
    {
     "name": "stderr",
     "output_type": "stream",
     "text": [
      "Epoch 17/30 [Train]: 100%|██████████| 16/16 [00:00<00:00, 662.30it/s, loss=1.5]\n"
     ]
    },
    {
     "name": "stdout",
     "output_type": "stream",
     "text": [
      "Train Loss: 1.5344 | Train Accuracy: 32.10%\n"
     ]
    },
    {
     "name": "stderr",
     "output_type": "stream",
     "text": [
      "Epoch 17/30 [Val]: 100%|██████████| 4/4 [00:00<00:00, 1169.63it/s, loss=1.61]\n"
     ]
    },
    {
     "name": "stdout",
     "output_type": "stream",
     "text": [
      "Validation Loss: 1.6330 | Val Accuracy: 20.00%\n",
      "Epoch 17/30 | Train Time: 0.03s | Validation Time: 0.00s | Epoch Time: 0.03s\n"
     ]
    },
    {
     "name": "stderr",
     "output_type": "stream",
     "text": [
      "Epoch 18/30 [Train]: 100%|██████████| 16/16 [00:00<00:00, 635.61it/s, loss=1.58]\n"
     ]
    },
    {
     "name": "stdout",
     "output_type": "stream",
     "text": [
      "Train Loss: 1.5333 | Train Accuracy: 32.30%\n"
     ]
    },
    {
     "name": "stderr",
     "output_type": "stream",
     "text": [
      "Epoch 18/30 [Val]: 100%|██████████| 4/4 [00:00<00:00, 1164.28it/s, loss=1.61]\n"
     ]
    },
    {
     "name": "stdout",
     "output_type": "stream",
     "text": [
      "Validation Loss: 1.6330 | Val Accuracy: 21.50%\n",
      "Epoch 18/30 | Train Time: 0.03s | Validation Time: 0.00s | Epoch Time: 0.03s\n"
     ]
    },
    {
     "name": "stderr",
     "output_type": "stream",
     "text": [
      "Epoch 19/30 [Train]: 100%|██████████| 16/16 [00:00<00:00, 662.46it/s, loss=1.56]\n"
     ]
    },
    {
     "name": "stdout",
     "output_type": "stream",
     "text": [
      "Train Loss: 1.5284 | Train Accuracy: 32.60%\n"
     ]
    },
    {
     "name": "stderr",
     "output_type": "stream",
     "text": [
      "Epoch 19/30 [Val]: 100%|██████████| 4/4 [00:00<00:00, 1161.05it/s, loss=1.61]\n"
     ]
    },
    {
     "name": "stdout",
     "output_type": "stream",
     "text": [
      "Validation Loss: 1.6331 | Val Accuracy: 21.50%\n",
      "Epoch 19/30 | Train Time: 0.03s | Validation Time: 0.00s | Epoch Time: 0.03s\n"
     ]
    },
    {
     "name": "stderr",
     "output_type": "stream",
     "text": [
      "Epoch 20/30 [Train]: 100%|██████████| 16/16 [00:00<00:00, 633.54it/s, loss=1.49]\n"
     ]
    },
    {
     "name": "stdout",
     "output_type": "stream",
     "text": [
      "Train Loss: 1.5231 | Train Accuracy: 33.20%\n"
     ]
    },
    {
     "name": "stderr",
     "output_type": "stream",
     "text": [
      "Epoch 20/30 [Val]: 100%|██████████| 4/4 [00:00<00:00, 1167.76it/s, loss=1.59]\n"
     ]
    },
    {
     "name": "stdout",
     "output_type": "stream",
     "text": [
      "Validation Loss: 1.6295 | Val Accuracy: 18.50%\n",
      "Epoch 20/30 | Train Time: 0.03s | Validation Time: 0.00s | Epoch Time: 0.03s\n"
     ]
    },
    {
     "name": "stderr",
     "output_type": "stream",
     "text": [
      "Epoch 21/30 [Train]: 100%|██████████| 16/16 [00:00<00:00, 665.15it/s, loss=1.56]\n"
     ]
    },
    {
     "name": "stdout",
     "output_type": "stream",
     "text": [
      "Train Loss: 1.5221 | Train Accuracy: 33.60%\n"
     ]
    },
    {
     "name": "stderr",
     "output_type": "stream",
     "text": [
      "Epoch 21/30 [Val]: 100%|██████████| 4/4 [00:00<00:00, 1112.33it/s, loss=1.6]\n"
     ]
    },
    {
     "name": "stdout",
     "output_type": "stream",
     "text": [
      "Validation Loss: 1.6324 | Val Accuracy: 20.00%\n",
      "Epoch 21/30 | Train Time: 0.03s | Validation Time: 0.01s | Epoch Time: 0.03s\n"
     ]
    },
    {
     "name": "stderr",
     "output_type": "stream",
     "text": [
      "Epoch 22/30 [Train]: 100%|██████████| 16/16 [00:00<00:00, 599.42it/s, loss=1.52]\n"
     ]
    },
    {
     "name": "stdout",
     "output_type": "stream",
     "text": [
      "Train Loss: 1.5165 | Train Accuracy: 33.90%\n"
     ]
    },
    {
     "name": "stderr",
     "output_type": "stream",
     "text": [
      "Epoch 22/30 [Val]: 100%|██████████| 4/4 [00:00<00:00, 1161.29it/s, loss=1.59]\n"
     ]
    },
    {
     "name": "stdout",
     "output_type": "stream",
     "text": [
      "Validation Loss: 1.6326 | Val Accuracy: 20.00%\n",
      "Epoch 22/30 | Train Time: 0.03s | Validation Time: 0.00s | Epoch Time: 0.03s\n"
     ]
    },
    {
     "name": "stderr",
     "output_type": "stream",
     "text": [
      "Epoch 23/30 [Train]: 100%|██████████| 16/16 [00:00<00:00, 643.53it/s, loss=1.45]\n"
     ]
    },
    {
     "name": "stdout",
     "output_type": "stream",
     "text": [
      "Train Loss: 1.5112 | Train Accuracy: 34.10%\n"
     ]
    },
    {
     "name": "stderr",
     "output_type": "stream",
     "text": [
      "Epoch 23/30 [Val]: 100%|██████████| 4/4 [00:00<00:00, 1172.00it/s, loss=1.6]\n"
     ]
    },
    {
     "name": "stdout",
     "output_type": "stream",
     "text": [
      "Validation Loss: 1.6327 | Val Accuracy: 22.00%\n",
      "Epoch 23/30 | Train Time: 0.03s | Validation Time: 0.00s | Epoch Time: 0.03s\n"
     ]
    },
    {
     "name": "stderr",
     "output_type": "stream",
     "text": [
      "Epoch 24/30 [Train]: 100%|██████████| 16/16 [00:00<00:00, 632.93it/s, loss=1.5]\n"
     ]
    },
    {
     "name": "stdout",
     "output_type": "stream",
     "text": [
      "Train Loss: 1.5089 | Train Accuracy: 35.10%\n"
     ]
    },
    {
     "name": "stderr",
     "output_type": "stream",
     "text": [
      "Epoch 24/30 [Val]: 100%|██████████| 4/4 [00:00<00:00, 1157.93it/s, loss=1.59]\n"
     ]
    },
    {
     "name": "stdout",
     "output_type": "stream",
     "text": [
      "Validation Loss: 1.6355 | Val Accuracy: 19.00%\n",
      "Epoch 24/30 | Train Time: 0.03s | Validation Time: 0.00s | Epoch Time: 0.03s\n"
     ]
    },
    {
     "name": "stderr",
     "output_type": "stream",
     "text": [
      "Epoch 25/30 [Train]: 100%|██████████| 16/16 [00:00<00:00, 545.15it/s, loss=1.48]\n"
     ]
    },
    {
     "name": "stdout",
     "output_type": "stream",
     "text": [
      "Train Loss: 1.5057 | Train Accuracy: 35.30%\n"
     ]
    },
    {
     "name": "stderr",
     "output_type": "stream",
     "text": [
      "Epoch 25/30 [Val]: 100%|██████████| 4/4 [00:00<00:00, 1154.66it/s, loss=1.59]\n"
     ]
    },
    {
     "name": "stdout",
     "output_type": "stream",
     "text": [
      "Validation Loss: 1.6319 | Val Accuracy: 22.00%\n",
      "Epoch 25/30 | Train Time: 0.03s | Validation Time: 0.00s | Epoch Time: 0.04s\n"
     ]
    },
    {
     "name": "stderr",
     "output_type": "stream",
     "text": [
      "Epoch 26/30 [Train]: 100%|██████████| 16/16 [00:00<00:00, 649.94it/s, loss=1.53]\n"
     ]
    },
    {
     "name": "stdout",
     "output_type": "stream",
     "text": [
      "Train Loss: 1.5038 | Train Accuracy: 34.70%\n"
     ]
    },
    {
     "name": "stderr",
     "output_type": "stream",
     "text": [
      "Epoch 26/30 [Val]: 100%|██████████| 4/4 [00:00<00:00, 1158.41it/s, loss=1.58]\n"
     ]
    },
    {
     "name": "stdout",
     "output_type": "stream",
     "text": [
      "Validation Loss: 1.6331 | Val Accuracy: 21.50%\n",
      "Epoch 26/30 | Train Time: 0.03s | Validation Time: 0.00s | Epoch Time: 0.03s\n"
     ]
    },
    {
     "name": "stderr",
     "output_type": "stream",
     "text": [
      "Epoch 27/30 [Train]: 100%|██████████| 16/16 [00:00<00:00, 634.04it/s, loss=1.5]\n"
     ]
    },
    {
     "name": "stdout",
     "output_type": "stream",
     "text": [
      "Train Loss: 1.4991 | Train Accuracy: 36.00%\n"
     ]
    },
    {
     "name": "stderr",
     "output_type": "stream",
     "text": [
      "Epoch 27/30 [Val]: 100%|██████████| 4/4 [00:00<00:00, 1156.97it/s, loss=1.59]\n"
     ]
    },
    {
     "name": "stdout",
     "output_type": "stream",
     "text": [
      "Validation Loss: 1.6402 | Val Accuracy: 21.00%\n",
      "Epoch 27/30 | Train Time: 0.03s | Validation Time: 0.01s | Epoch Time: 0.03s\n"
     ]
    },
    {
     "name": "stderr",
     "output_type": "stream",
     "text": [
      "Epoch 28/30 [Train]: 100%|██████████| 16/16 [00:00<00:00, 595.12it/s, loss=1.49]\n"
     ]
    },
    {
     "name": "stdout",
     "output_type": "stream",
     "text": [
      "Train Loss: 1.4959 | Train Accuracy: 36.00%\n"
     ]
    },
    {
     "name": "stderr",
     "output_type": "stream",
     "text": [
      "Epoch 28/30 [Val]: 100%|██████████| 4/4 [00:00<00:00, 1056.57it/s, loss=1.59]\n"
     ]
    },
    {
     "name": "stdout",
     "output_type": "stream",
     "text": [
      "Validation Loss: 1.6348 | Val Accuracy: 20.00%\n",
      "Epoch 28/30 | Train Time: 0.03s | Validation Time: 0.01s | Epoch Time: 0.03s\n"
     ]
    },
    {
     "name": "stderr",
     "output_type": "stream",
     "text": [
      "Epoch 29/30 [Train]: 100%|██████████| 16/16 [00:00<00:00, 653.90it/s, loss=1.47]\n"
     ]
    },
    {
     "name": "stdout",
     "output_type": "stream",
     "text": [
      "Train Loss: 1.4906 | Train Accuracy: 35.60%\n"
     ]
    },
    {
     "name": "stderr",
     "output_type": "stream",
     "text": [
      "Epoch 29/30 [Val]: 100%|██████████| 4/4 [00:00<00:00, 1139.83it/s, loss=1.59]\n"
     ]
    },
    {
     "name": "stdout",
     "output_type": "stream",
     "text": [
      "Validation Loss: 1.6396 | Val Accuracy: 21.00%\n",
      "Epoch 29/30 | Train Time: 0.03s | Validation Time: 0.01s | Epoch Time: 0.03s\n"
     ]
    },
    {
     "name": "stderr",
     "output_type": "stream",
     "text": [
      "Epoch 30/30 [Train]: 100%|██████████| 16/16 [00:00<00:00, 580.44it/s, loss=1.41]\n"
     ]
    },
    {
     "name": "stdout",
     "output_type": "stream",
     "text": [
      "Train Loss: 1.4857 | Train Accuracy: 35.30%\n"
     ]
    },
    {
     "name": "stderr",
     "output_type": "stream",
     "text": [
      "Epoch 30/30 [Val]: 100%|██████████| 4/4 [00:00<00:00, 1314.11it/s, loss=1.58]"
     ]
    },
    {
     "name": "stdout",
     "output_type": "stream",
     "text": [
      "Validation Loss: 1.6383 | Val Accuracy: 20.00%\n",
      "Epoch 30/30 | Train Time: 0.03s | Validation Time: 0.00s | Epoch Time: 0.03s\n",
      "Total Training Time: 0:00:01.045402 | 1.05s\n",
      "Training complete.\n"
     ]
    },
    {
     "name": "stderr",
     "output_type": "stream",
     "text": [
      "\n"
     ]
    }
   ],
   "source": [
    "trainer = Trainer(model, optimizer, criterion, train_loader, device, val_dataloader=val_loader)\n",
    "trainer.train(30)"
   ]
  },
  {
   "cell_type": "code",
   "execution_count": null,
   "id": "b5061179-eb62-4124-a5f3-2d018c829ef2",
   "metadata": {},
   "outputs": [],
   "source": []
  }
 ],
 "metadata": {
  "kernelspec": {
   "display_name": "Python 3 (ipykernel)",
   "language": "python",
   "name": "python3"
  },
  "language_info": {
   "codemirror_mode": {
    "name": "ipython",
    "version": 3
   },
   "file_extension": ".py",
   "mimetype": "text/x-python",
   "name": "python",
   "nbconvert_exporter": "python",
   "pygments_lexer": "ipython3",
   "version": "3.12.9"
  }
 },
 "nbformat": 4,
 "nbformat_minor": 5
}
