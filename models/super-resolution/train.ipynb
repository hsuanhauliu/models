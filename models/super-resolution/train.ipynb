{
 "cells": [
  {
   "cell_type": "code",
   "execution_count": 1,
   "id": "957ff142-c0cf-417d-b0e7-8f6c5c3dd743",
   "metadata": {},
   "outputs": [
    {
     "name": "stderr",
     "output_type": "stream",
     "text": [
      "2025-10-03 07:14:39.747356: E external/local_xla/xla/stream_executor/cuda/cuda_fft.cc:477] Unable to register cuFFT factory: Attempting to register factory for plugin cuFFT when one has already been registered\n",
      "WARNING: All log messages before absl::InitializeLog() is called are written to STDERR\n",
      "E0000 00:00:1759475679.760103   55456 cuda_dnn.cc:8310] Unable to register cuDNN factory: Attempting to register factory for plugin cuDNN when one has already been registered\n",
      "E0000 00:00:1759475679.764020   55456 cuda_blas.cc:1418] Unable to register cuBLAS factory: Attempting to register factory for plugin cuBLAS when one has already been registered\n",
      "2025-10-03 07:14:39.776278: I tensorflow/core/platform/cpu_feature_guard.cc:210] This TensorFlow binary is optimized to use available CPU instructions in performance-critical operations.\n",
      "To enable the following instructions: AVX2 FMA, in other operations, rebuild TensorFlow with the appropriate compiler flags.\n"
     ]
    }
   ],
   "source": [
    "import torch\n",
    "import torch.nn as nn\n",
    "import torch.nn.functional as F\n",
    "import torch.optim as optim\n",
    "from torch.utils.data import DataLoader, Dataset\n",
    "from torchvision.transforms import ToTensor, Resize, Compose, ToPILImage, RandomCrop, Lambda\n",
    "from torchvision.utils import make_grid\n",
    "from torch.utils.tensorboard import SummaryWriter\n",
    "from PIL import Image\n",
    "import os\n",
    "from tqdm import tqdm\n",
    "import numpy as np\n",
    "\n",
    "from diffusion_model import UNet"
   ]
  },
  {
   "cell_type": "code",
   "execution_count": 2,
   "id": "bdd8bb97-53b0-49f6-926c-9f3fcecff76f",
   "metadata": {},
   "outputs": [
    {
     "name": "stdout",
     "output_type": "stream",
     "text": [
      "Using device: cuda\n"
     ]
    }
   ],
   "source": [
    "# --- Configuration ---\n",
    "IMG_SIZE = 64 # Target HR image size 64x64\n",
    "UPSCALE_FACTOR = 2 # Double resolution\n",
    "BATCH_SIZE = 16\n",
    "NUM_EPOCHS = 20\n",
    "LEARNING_RATE = 1e-4\n",
    "DEVICE = 'cuda' if torch.cuda.is_available() else 'cpu'\n",
    "TRAIN_DATA_DIR = 'data/train'\n",
    "MODEL_SAVE_PATH = 'diffusion_upscaler.pth'\n",
    "LOG_IMAGE_EPOCHS = 10 # Log sample images every N epochs\n",
    "\n",
    "if not os.path.exists(TRAIN_DATA_DIR) or not os.listdir(TRAIN_DATA_DIR):\n",
    "    print(f\"Data directory '{TRAIN_DATA_DIR}' is empty or does not exist.\")\n",
    "\n",
    "# --- Hyperparameters ---\n",
    "TIMESTEPS = 1000\n",
    "BETA_START = 0.0001\n",
    "BETA_END = 0.02\n",
    "betas = torch.linspace(BETA_START, BETA_END, TIMESTEPS, device=DEVICE)\n",
    "alphas = 1. - betas\n",
    "alphas_cumprod = torch.cumprod(alphas, axis=0)\n",
    "alphas_cumprod_prev = F.pad(alphas_cumprod[:-1], (1, 0), value=1.0)\n",
    "sqrt_recip_alphas = torch.sqrt(1.0 / alphas)\n",
    "sqrt_alphas_cumprod = torch.sqrt(alphas_cumprod)\n",
    "sqrt_one_minus_alphas_cumprod = torch.sqrt(1. - alphas_cumprod)\n",
    "posterior_variance = betas * (1. - alphas_cumprod_prev) / (1. - alphas_cumprod)\n",
    "\n",
    "print(f\"Using device: {DEVICE}\")"
   ]
  },
  {
   "cell_type": "code",
   "execution_count": 3,
   "id": "d2ebf931-db60-451c-a555-550b6f6db696",
   "metadata": {},
   "outputs": [],
   "source": [
    "# --- Helper Functions ---\n",
    "def extract(a, t, x_shape):\n",
    "    batch_size = t.shape[0]\n",
    "    out = a.gather(-1, t.to(DEVICE))\n",
    "    return out.reshape(batch_size, *((1,) * (len(x_shape) - 1))).to(DEVICE)\n",
    "\n",
    "def q_sample(x_start, t, noise=None):\n",
    "    if noise is None:\n",
    "        noise = torch.randn_like(x_start)\n",
    "\n",
    "    sqrt_alphas_cumprod_t = extract(sqrt_alphas_cumprod, t, x_start.shape)\n",
    "    sqrt_one_minus_alphas_cumprod_t = extract(\n",
    "        sqrt_one_minus_alphas_cumprod, t, x_start.shape\n",
    "    )\n",
    "    return sqrt_alphas_cumprod_t * x_start + sqrt_one_minus_alphas_cumprod_t * noise\n",
    "\n",
    "def p_losses(denoise_model, x_start, t, low_res_img, noise=None):\n",
    "    if noise is None:\n",
    "        noise = torch.randn_like(x_start)\n",
    "\n",
    "    x_noisy = q_sample(x_start=x_start, t=t, noise=noise)\n",
    "    predicted_noise = denoise_model(x_noisy, t, low_res_img)\n",
    "    return F.mse_loss(noise, predicted_noise)\n",
    "\n",
    "# --- Sampling functions for logging ---\n",
    "@torch.no_grad()\n",
    "def p_sample(model, x, t, t_index, low_res_img):\n",
    "    betas_t = extract(betas, t, x.shape)\n",
    "    sqrt_one_minus_alphas_cumprod_t = extract(\n",
    "        sqrt_one_minus_alphas_cumprod, t, x.shape\n",
    "    )\n",
    "    sqrt_recip_alphas_t = extract(sqrt_recip_alphas, t, x.shape)\n",
    "    \n",
    "    model_mean = sqrt_recip_alphas_t * (\n",
    "        x - betas_t * model(x, t, low_res_img) / sqrt_one_minus_alphas_cumprod_t\n",
    "    )\n",
    "\n",
    "    if t_index == 0:\n",
    "        return model_mean\n",
    "    else:\n",
    "        posterior_variance_t = extract(posterior_variance, t, x.shape)\n",
    "        noise = torch.randn_like(x)\n",
    "        return model_mean + torch.sqrt(posterior_variance_t) * noise\n",
    "\n",
    "@torch.no_grad()\n",
    "def sample_and_log_images(model, low_res_upscaled, hr_image, epoch, writer):\n",
    "    model.eval()\n",
    "    shape = hr_image.shape\n",
    "    device = next(model.parameters()).device\n",
    "    \n",
    "    img = torch.randn(shape, device=device)\n",
    "    \n",
    "    for i in reversed(range(0, TIMESTEPS)):\n",
    "        img = p_sample(model, img, torch.full((shape[0],), i, device=device, dtype=torch.long), i, low_res_upscaled)\n",
    "    \n",
    "    # Normalize all images to [0, 1] for grid view\n",
    "    generated_img = (img.clamp(-1, 1) + 1) / 2\n",
    "    hr_image_grid = (hr_image.clamp(-1, 1) + 1) / 2\n",
    "    low_res_grid = (low_res_upscaled.clamp(-1, 1) + 1) / 2\n",
    "    \n",
    "    # Log the first image of the batch\n",
    "    grid = make_grid([low_res_grid[0], generated_img[0], hr_image_grid[0]], nrow=3)\n",
    "    writer.add_image(f'Epoch {epoch}: Low-Res / Generated / High-Res', grid, epoch)\n",
    "    model.train()\n",
    "\n",
    "\n",
    "# --- Dataset ---\n",
    "class SuperResDataset(Dataset):\n",
    "    def __init__(self, image_dir, img_size):\n",
    "        \"\"\"\n",
    "        Use Train Data (HR Images)/DIV2K_train_HR dataset from https://data.vision.ee.ethz.ch/cvl/DIV2K/\n",
    "        \"\"\"\n",
    "        self.image_filenames = [os.path.join(image_dir, x) for x in os.listdir(image_dir)]\n",
    "        self.transform = Compose([\n",
    "            RandomCrop(img_size),\n",
    "            ToTensor(), # Scales to [0, 1]\n",
    "            Lambda(lambda t: (t * 2) - 1) # Scale to [-1, 1]\n",
    "        ])\n",
    "\n",
    "    def __getitem__(self, index):\n",
    "        image = Image.open(self.image_filenames[index]).convert('RGB')\n",
    "        return self.transform(image)\n",
    "\n",
    "    def __len__(self):\n",
    "        return len(self.image_filenames)\n"
   ]
  },
  {
   "cell_type": "code",
   "execution_count": 4,
   "id": "e24f9a34-2e69-4ba2-a3bb-2f4c19b8e86f",
   "metadata": {},
   "outputs": [
    {
     "name": "stdout",
     "output_type": "stream",
     "text": [
      "Starting training...\n"
     ]
    },
    {
     "name": "stderr",
     "output_type": "stream",
     "text": [
      "Epoch 1/20: 100%|██████████| 50/50 [00:51<00:00,  1.02s/it, loss=0.4589]\n",
      "Epoch 2/20: 100%|██████████| 50/50 [00:51<00:00,  1.03s/it, loss=0.2355]\n",
      "Epoch 3/20: 100%|██████████| 50/50 [00:50<00:00,  1.02s/it, loss=0.1939]\n",
      "Epoch 4/20: 100%|██████████| 50/50 [00:50<00:00,  1.01s/it, loss=0.0991]\n",
      "Epoch 5/20: 100%|██████████| 50/50 [00:50<00:00,  1.02s/it, loss=0.1046]\n",
      "Epoch 6/20: 100%|██████████| 50/50 [00:50<00:00,  1.02s/it, loss=0.0694]\n",
      "Epoch 7/20: 100%|██████████| 50/50 [00:50<00:00,  1.02s/it, loss=0.1004]\n",
      "Epoch 8/20: 100%|██████████| 50/50 [00:50<00:00,  1.01s/it, loss=0.0835]\n",
      "Epoch 9/20: 100%|██████████| 50/50 [00:51<00:00,  1.03s/it, loss=0.0622]\n",
      "Epoch 10/20: 100%|██████████| 50/50 [00:51<00:00,  1.03s/it, loss=0.0524]\n"
     ]
    },
    {
     "name": "stdout",
     "output_type": "stream",
     "text": [
      "Logging images for epoch 10...\n"
     ]
    },
    {
     "name": "stderr",
     "output_type": "stream",
     "text": [
      "Epoch 11/20: 100%|██████████| 50/50 [00:51<00:00,  1.03s/it, loss=0.1007]\n",
      "Epoch 12/20: 100%|██████████| 50/50 [00:50<00:00,  1.02s/it, loss=0.1008]\n",
      "Epoch 13/20: 100%|██████████| 50/50 [00:50<00:00,  1.01s/it, loss=0.0921]\n",
      "Epoch 14/20: 100%|██████████| 50/50 [00:51<00:00,  1.02s/it, loss=0.0315]\n",
      "Epoch 15/20: 100%|██████████| 50/50 [00:50<00:00,  1.02s/it, loss=0.0479]\n",
      "Epoch 16/20: 100%|██████████| 50/50 [00:50<00:00,  1.02s/it, loss=0.0285]\n",
      "Epoch 17/20: 100%|██████████| 50/50 [00:50<00:00,  1.02s/it, loss=0.0278]\n",
      "Epoch 18/20: 100%|██████████| 50/50 [00:51<00:00,  1.02s/it, loss=0.0311]\n",
      "Epoch 19/20: 100%|██████████| 50/50 [00:51<00:00,  1.02s/it, loss=0.0783]\n",
      "Epoch 20/20: 100%|██████████| 50/50 [00:51<00:00,  1.02s/it, loss=0.0253]\n"
     ]
    },
    {
     "name": "stdout",
     "output_type": "stream",
     "text": [
      "Logging images for epoch 20...\n",
      "Finished Training\n",
      "Model saved to diffusion_upscaler.pth\n"
     ]
    }
   ],
   "source": [
    "writer = SummaryWriter(\"/home/jovyan/logs/fit/diffusion_super_res\")\n",
    "\n",
    "dataset = SuperResDataset(TRAIN_DATA_DIR, IMG_SIZE)\n",
    "dataloader = DataLoader(dataset, batch_size=BATCH_SIZE, shuffle=True, drop_last=True)\n",
    "\n",
    "# Get a fixed batch for consistent image logging\n",
    "fixed_batch = next(iter(dataloader)).to(DEVICE)\n",
    "fixed_lr = F.interpolate(fixed_batch, scale_factor=1/UPSCALE_FACTOR, mode='bicubic', antialias=True)\n",
    "fixed_lr_upscaled = F.interpolate(fixed_lr, size=(IMG_SIZE, IMG_SIZE), mode='bicubic', antialias=True)\n",
    "\n",
    "\n",
    "model = UNet().to(DEVICE)\n",
    "optimizer = optim.Adam(model.parameters(), lr=LEARNING_RATE)\n",
    "\n",
    "print(\"Starting training...\")\n",
    "global_step = 0\n",
    "for epoch in range(NUM_EPOCHS):\n",
    "    progress_bar = tqdm(dataloader, desc=f\"Epoch {epoch+1}/{NUM_EPOCHS}\")\n",
    "    \n",
    "    for step, batch in enumerate(progress_bar):\n",
    "        model.train()\n",
    "        optimizer.zero_grad()\n",
    "\n",
    "        hr_images = batch.to(DEVICE) # High-res images, shape (B, 3, 64, 64), range [-1, 1]\n",
    "        \n",
    "        low_res_img = F.interpolate(hr_images, scale_factor=1/UPSCALE_FACTOR, mode='bicubic', antialias=True)\n",
    "        low_res_upscaled = F.interpolate(low_res_img, size=(IMG_SIZE, IMG_SIZE), mode='bicubic', antialias=True)\n",
    "\n",
    "        t = torch.randint(0, TIMESTEPS, (hr_images.shape[0],), device=DEVICE).long()\n",
    "        \n",
    "        loss = p_losses(model, hr_images, t, low_res_upscaled)\n",
    "        \n",
    "        loss.backward()\n",
    "        optimizer.step()\n",
    "\n",
    "        progress_bar.set_postfix(loss=f'{loss.item():.4f}')\n",
    "        writer.add_scalar('Training Loss', loss.item(), global_step)\n",
    "        global_step += 1\n",
    "    \n",
    "    # Log images every N epochs\n",
    "    if (epoch + 1) % LOG_IMAGE_EPOCHS == 0:\n",
    "        print(f\"Logging images for epoch {epoch+1}...\")\n",
    "        sample_and_log_images(model, fixed_lr_upscaled, fixed_batch, epoch + 1, writer)\n",
    "\n",
    "\n",
    "print(\"Finished Training\")\n",
    "torch.save(model.state_dict(), MODEL_SAVE_PATH)\n",
    "print(f\"Model saved to {MODEL_SAVE_PATH}\")\n",
    "writer.close()"
   ]
  },
  {
   "cell_type": "code",
   "execution_count": null,
   "id": "9d23a8ec-1ddf-4c0c-bf46-90d21dc2040b",
   "metadata": {},
   "outputs": [],
   "source": []
  }
 ],
 "metadata": {
  "kernelspec": {
   "display_name": "Python 3 (ipykernel)",
   "language": "python",
   "name": "python3"
  },
  "language_info": {
   "codemirror_mode": {
    "name": "ipython",
    "version": 3
   },
   "file_extension": ".py",
   "mimetype": "text/x-python",
   "name": "python",
   "nbconvert_exporter": "python",
   "pygments_lexer": "ipython3",
   "version": "3.12.9"
  }
 },
 "nbformat": 4,
 "nbformat_minor": 5
}
