{
 "cells": [
  {
   "cell_type": "code",
   "execution_count": 1,
   "id": "957ff142-c0cf-417d-b0e7-8f6c5c3dd743",
   "metadata": {},
   "outputs": [
    {
     "name": "stderr",
     "output_type": "stream",
     "text": [
      "2025-10-05 05:33:02.106543: E external/local_xla/xla/stream_executor/cuda/cuda_fft.cc:477] Unable to register cuFFT factory: Attempting to register factory for plugin cuFFT when one has already been registered\n",
      "WARNING: All log messages before absl::InitializeLog() is called are written to STDERR\n",
      "E0000 00:00:1759642382.119248  117868 cuda_dnn.cc:8310] Unable to register cuDNN factory: Attempting to register factory for plugin cuDNN when one has already been registered\n",
      "E0000 00:00:1759642382.123202  117868 cuda_blas.cc:1418] Unable to register cuBLAS factory: Attempting to register factory for plugin cuBLAS when one has already been registered\n",
      "2025-10-05 05:33:02.135330: I tensorflow/core/platform/cpu_feature_guard.cc:210] This TensorFlow binary is optimized to use available CPU instructions in performance-critical operations.\n",
      "To enable the following instructions: AVX2 FMA, in other operations, rebuild TensorFlow with the appropriate compiler flags.\n"
     ]
    }
   ],
   "source": [
    "import torch\n",
    "import torch.nn as nn\n",
    "import torch.nn.functional as F\n",
    "import torch.optim as optim\n",
    "from torch.utils.data import DataLoader, Dataset\n",
    "from torch.utils.tensorboard import SummaryWriter\n",
    "from torchvision.transforms import ToTensor, Lambda, Compose, ToPILImage, Resize, InterpolationMode\n",
    "from PIL import Image\n",
    "import numpy as np\n",
    "import os\n",
    "from tqdm import tqdm\n",
    "import yaml\n",
    "\n",
    "from diffusion_model import UNet\n",
    "import helpers\n",
    "import train"
   ]
  },
  {
   "cell_type": "code",
   "execution_count": 2,
   "id": "e24f9a34-2e69-4ba2-a3bb-2f4c19b8e86f",
   "metadata": {},
   "outputs": [
    {
     "name": "stdout",
     "output_type": "stream",
     "text": [
      "Using device: cuda\n"
     ]
    },
    {
     "name": "stderr",
     "output_type": "stream",
     "text": [
      "Epoch 1/100: 100%|██████████| 50/50 [00:17<00:00,  2.79it/s, loss=0.257]\n",
      "Epoch 2/100: 100%|██████████| 50/50 [00:17<00:00,  2.80it/s, loss=0.215]\n",
      "Epoch 3/100: 100%|██████████| 50/50 [00:17<00:00,  2.80it/s, loss=0.11]  \n",
      "Epoch 4/100: 100%|██████████| 50/50 [00:18<00:00,  2.75it/s, loss=0.0691]\n",
      "Epoch 5/100: 100%|██████████| 50/50 [00:17<00:00,  2.80it/s, loss=0.133] \n"
     ]
    },
    {
     "name": "stdout",
     "output_type": "stream",
     "text": [
      "Epoch 5: Loss: 0.13326743245124817\n"
     ]
    },
    {
     "name": "stderr",
     "output_type": "stream",
     "text": [
      "Epoch 6/100: 100%|██████████| 50/50 [00:18<00:00,  2.77it/s, loss=0.0499]\n",
      "Epoch 7/100: 100%|██████████| 50/50 [00:18<00:00,  2.77it/s, loss=0.0693]\n",
      "Epoch 8/100: 100%|██████████| 50/50 [00:18<00:00,  2.76it/s, loss=0.0329]\n",
      "Epoch 9/100: 100%|██████████| 50/50 [00:18<00:00,  2.77it/s, loss=0.0428]\n",
      "Epoch 10/100: 100%|██████████| 50/50 [00:18<00:00,  2.78it/s, loss=0.0912]\n"
     ]
    },
    {
     "name": "stdout",
     "output_type": "stream",
     "text": [
      "Epoch 10: Loss: 0.09120433777570724\n",
      "Saved model at epoch: 10\n"
     ]
    },
    {
     "name": "stderr",
     "output_type": "stream",
     "text": [
      "Epoch 11/100: 100%|██████████| 50/50 [00:18<00:00,  2.76it/s, loss=0.0624]\n",
      "Epoch 12/100: 100%|██████████| 50/50 [00:17<00:00,  2.78it/s, loss=0.077] \n",
      "Epoch 13/100: 100%|██████████| 50/50 [00:17<00:00,  2.79it/s, loss=0.0307]\n",
      "Epoch 14/100: 100%|██████████| 50/50 [00:18<00:00,  2.76it/s, loss=0.0944]\n",
      "Epoch 15/100: 100%|██████████| 50/50 [00:18<00:00,  2.77it/s, loss=0.067] \n"
     ]
    },
    {
     "name": "stdout",
     "output_type": "stream",
     "text": [
      "Epoch 15: Loss: 0.06698416918516159\n"
     ]
    },
    {
     "name": "stderr",
     "output_type": "stream",
     "text": [
      "Epoch 16/100: 100%|██████████| 50/50 [00:18<00:00,  2.77it/s, loss=0.0231]\n",
      "Epoch 17/100: 100%|██████████| 50/50 [00:18<00:00,  2.75it/s, loss=0.0281]\n",
      "Epoch 18/100: 100%|██████████| 50/50 [00:17<00:00,  2.79it/s, loss=0.0637]\n",
      "Epoch 19/100: 100%|██████████| 50/50 [00:17<00:00,  2.78it/s, loss=0.061] \n",
      "Epoch 20/100: 100%|██████████| 50/50 [00:18<00:00,  2.78it/s, loss=0.0159]\n"
     ]
    },
    {
     "name": "stdout",
     "output_type": "stream",
     "text": [
      "Epoch 20: Loss: 0.015939725562930107\n",
      "Saved model at epoch: 20\n"
     ]
    },
    {
     "name": "stderr",
     "output_type": "stream",
     "text": [
      "Epoch 21/100: 100%|██████████| 50/50 [00:18<00:00,  2.74it/s, loss=0.0336]\n",
      "Epoch 22/100: 100%|██████████| 50/50 [00:18<00:00,  2.77it/s, loss=0.0273] \n",
      "Epoch 23/100: 100%|██████████| 50/50 [00:18<00:00,  2.77it/s, loss=0.0405]\n",
      "Epoch 24/100: 100%|██████████| 50/50 [00:18<00:00,  2.77it/s, loss=0.0164]\n",
      "Epoch 25/100: 100%|██████████| 50/50 [00:18<00:00,  2.74it/s, loss=0.0195]\n"
     ]
    },
    {
     "name": "stdout",
     "output_type": "stream",
     "text": [
      "Epoch 25: Loss: 0.019520845264196396\n"
     ]
    },
    {
     "name": "stderr",
     "output_type": "stream",
     "text": [
      "Epoch 26/100: 100%|██████████| 50/50 [00:18<00:00,  2.74it/s, loss=0.0589]\n",
      "Epoch 27/100: 100%|██████████| 50/50 [00:18<00:00,  2.78it/s, loss=0.0226] \n",
      "Epoch 28/100: 100%|██████████| 50/50 [00:17<00:00,  2.78it/s, loss=0.0216]\n",
      "Epoch 29/100: 100%|██████████| 50/50 [00:18<00:00,  2.73it/s, loss=0.0154] \n",
      "Epoch 30/100: 100%|██████████| 50/50 [00:18<00:00,  2.71it/s, loss=0.0174]\n"
     ]
    },
    {
     "name": "stdout",
     "output_type": "stream",
     "text": [
      "Epoch 30: Loss: 0.0174395814538002\n",
      "Saved model at epoch: 30\n"
     ]
    },
    {
     "name": "stderr",
     "output_type": "stream",
     "text": [
      "Epoch 31/100: 100%|██████████| 50/50 [00:17<00:00,  2.78it/s, loss=0.0128] \n",
      "Epoch 32/100: 100%|██████████| 50/50 [00:18<00:00,  2.73it/s, loss=0.0645]\n",
      "Epoch 33/100: 100%|██████████| 50/50 [00:18<00:00,  2.74it/s, loss=0.0745] \n",
      "Epoch 34/100: 100%|██████████| 50/50 [00:18<00:00,  2.73it/s, loss=0.0524] \n",
      "Epoch 35/100: 100%|██████████| 50/50 [00:18<00:00,  2.77it/s, loss=0.0282] \n"
     ]
    },
    {
     "name": "stdout",
     "output_type": "stream",
     "text": [
      "Epoch 35: Loss: 0.028151167556643486\n"
     ]
    },
    {
     "name": "stderr",
     "output_type": "stream",
     "text": [
      "Epoch 36/100: 100%|██████████| 50/50 [00:18<00:00,  2.77it/s, loss=0.0992] \n",
      "Epoch 37/100: 100%|██████████| 50/50 [00:17<00:00,  2.80it/s, loss=0.0184] \n",
      "Epoch 38/100: 100%|██████████| 50/50 [00:18<00:00,  2.76it/s, loss=0.0399] \n",
      "Epoch 39/100: 100%|██████████| 50/50 [00:18<00:00,  2.74it/s, loss=0.0338] \n",
      "Epoch 40/100: 100%|██████████| 50/50 [00:18<00:00,  2.75it/s, loss=0.00979]\n"
     ]
    },
    {
     "name": "stdout",
     "output_type": "stream",
     "text": [
      "Epoch 40: Loss: 0.00978508498519659\n",
      "Saved model at epoch: 40\n"
     ]
    },
    {
     "name": "stderr",
     "output_type": "stream",
     "text": [
      "Epoch 41/100: 100%|██████████| 50/50 [00:17<00:00,  2.79it/s, loss=0.0162] \n",
      "Epoch 42/100: 100%|██████████| 50/50 [00:18<00:00,  2.75it/s, loss=0.00841]\n",
      "Epoch 43/100: 100%|██████████| 50/50 [00:18<00:00,  2.76it/s, loss=0.0235] \n",
      "Epoch 44/100: 100%|██████████| 50/50 [00:18<00:00,  2.75it/s, loss=0.0274] \n",
      "Epoch 45/100: 100%|██████████| 50/50 [00:18<00:00,  2.77it/s, loss=0.0602] \n"
     ]
    },
    {
     "name": "stdout",
     "output_type": "stream",
     "text": [
      "Epoch 45: Loss: 0.06024239957332611\n"
     ]
    },
    {
     "name": "stderr",
     "output_type": "stream",
     "text": [
      "Epoch 46/100: 100%|██████████| 50/50 [00:18<00:00,  2.73it/s, loss=0.0469] \n",
      "Epoch 47/100: 100%|██████████| 50/50 [00:18<00:00,  2.76it/s, loss=0.0425] \n",
      "Epoch 48/100: 100%|██████████| 50/50 [00:18<00:00,  2.75it/s, loss=0.055]  \n",
      "Epoch 49/100: 100%|██████████| 50/50 [00:18<00:00,  2.75it/s, loss=0.0363] \n",
      "Epoch 50/100: 100%|██████████| 50/50 [00:18<00:00,  2.77it/s, loss=0.0173] \n"
     ]
    },
    {
     "name": "stdout",
     "output_type": "stream",
     "text": [
      "Epoch 50: Loss: 0.01730687916278839\n",
      "Saved model at epoch: 50\n"
     ]
    },
    {
     "name": "stderr",
     "output_type": "stream",
     "text": [
      "Epoch 51/100: 100%|██████████| 50/50 [00:18<00:00,  2.75it/s, loss=0.0098] \n",
      "Epoch 52/100: 100%|██████████| 50/50 [00:18<00:00,  2.75it/s, loss=0.0292] \n",
      "Epoch 53/100: 100%|██████████| 50/50 [00:18<00:00,  2.75it/s, loss=0.0527] \n",
      "Epoch 54/100: 100%|██████████| 50/50 [00:18<00:00,  2.73it/s, loss=0.0481] \n",
      "Epoch 55/100: 100%|██████████| 50/50 [00:18<00:00,  2.74it/s, loss=0.0575] \n"
     ]
    },
    {
     "name": "stdout",
     "output_type": "stream",
     "text": [
      "Epoch 55: Loss: 0.0574767142534256\n"
     ]
    },
    {
     "name": "stderr",
     "output_type": "stream",
     "text": [
      "Epoch 56/100: 100%|██████████| 50/50 [00:18<00:00,  2.77it/s, loss=0.0117] \n",
      "Epoch 57/100: 100%|██████████| 50/50 [00:18<00:00,  2.76it/s, loss=0.0139] \n",
      "Epoch 58/100: 100%|██████████| 50/50 [00:18<00:00,  2.75it/s, loss=0.0523] \n",
      "Epoch 59/100: 100%|██████████| 50/50 [00:17<00:00,  2.78it/s, loss=0.0209] \n",
      "Epoch 60/100: 100%|██████████| 50/50 [00:18<00:00,  2.74it/s, loss=0.0144] \n"
     ]
    },
    {
     "name": "stdout",
     "output_type": "stream",
     "text": [
      "Epoch 60: Loss: 0.014449775218963623\n",
      "Saved model at epoch: 60\n"
     ]
    },
    {
     "name": "stderr",
     "output_type": "stream",
     "text": [
      "Epoch 61/100: 100%|██████████| 50/50 [00:18<00:00,  2.73it/s, loss=0.0281] \n",
      "Epoch 62/100: 100%|██████████| 50/50 [00:18<00:00,  2.71it/s, loss=0.0223] \n",
      "Epoch 63/100: 100%|██████████| 50/50 [00:18<00:00,  2.74it/s, loss=0.0185] \n",
      "Epoch 64/100: 100%|██████████| 50/50 [00:18<00:00,  2.72it/s, loss=0.0131] \n",
      "Epoch 65/100: 100%|██████████| 50/50 [00:18<00:00,  2.72it/s, loss=0.0326] \n"
     ]
    },
    {
     "name": "stdout",
     "output_type": "stream",
     "text": [
      "Epoch 65: Loss: 0.032587580382823944\n"
     ]
    },
    {
     "name": "stderr",
     "output_type": "stream",
     "text": [
      "Epoch 66/100: 100%|██████████| 50/50 [00:18<00:00,  2.74it/s, loss=0.0347] \n",
      "Epoch 67/100: 100%|██████████| 50/50 [00:18<00:00,  2.78it/s, loss=0.0214] \n",
      "Epoch 68/100: 100%|██████████| 50/50 [00:18<00:00,  2.77it/s, loss=0.0459] \n",
      "Epoch 69/100: 100%|██████████| 50/50 [00:18<00:00,  2.77it/s, loss=0.028]  \n",
      "Epoch 70/100: 100%|██████████| 50/50 [00:18<00:00,  2.72it/s, loss=0.018]  \n"
     ]
    },
    {
     "name": "stdout",
     "output_type": "stream",
     "text": [
      "Epoch 70: Loss: 0.017963401973247528\n",
      "Saved model at epoch: 70\n"
     ]
    },
    {
     "name": "stderr",
     "output_type": "stream",
     "text": [
      "Epoch 71/100: 100%|██████████| 50/50 [00:18<00:00,  2.75it/s, loss=0.0355] \n",
      "Epoch 72/100: 100%|██████████| 50/50 [00:17<00:00,  2.78it/s, loss=0.047]  \n",
      "Epoch 73/100: 100%|██████████| 50/50 [00:18<00:00,  2.77it/s, loss=0.0689] \n",
      "Epoch 74/100: 100%|██████████| 50/50 [00:18<00:00,  2.75it/s, loss=0.013]  \n",
      "Epoch 75/100: 100%|██████████| 50/50 [00:18<00:00,  2.76it/s, loss=0.0259] \n"
     ]
    },
    {
     "name": "stdout",
     "output_type": "stream",
     "text": [
      "Epoch 75: Loss: 0.0259105172008276\n"
     ]
    },
    {
     "name": "stderr",
     "output_type": "stream",
     "text": [
      "Epoch 76/100: 100%|██████████| 50/50 [00:18<00:00,  2.74it/s, loss=0.0378] \n",
      "Epoch 77/100: 100%|██████████| 50/50 [00:18<00:00,  2.75it/s, loss=0.0363] \n",
      "Epoch 78/100: 100%|██████████| 50/50 [00:18<00:00,  2.74it/s, loss=0.0431] \n",
      "Epoch 79/100: 100%|██████████| 50/50 [00:18<00:00,  2.77it/s, loss=0.0409] \n",
      "Epoch 80/100: 100%|██████████| 50/50 [00:18<00:00,  2.78it/s, loss=0.00912]\n"
     ]
    },
    {
     "name": "stdout",
     "output_type": "stream",
     "text": [
      "Epoch 80: Loss: 0.009115496650338173\n",
      "Saved model at epoch: 80\n"
     ]
    },
    {
     "name": "stderr",
     "output_type": "stream",
     "text": [
      "Epoch 81/100: 100%|██████████| 50/50 [00:18<00:00,  2.77it/s, loss=0.0205] \n",
      "Epoch 82/100: 100%|██████████| 50/50 [00:18<00:00,  2.77it/s, loss=0.00709]\n",
      "Epoch 83/100: 100%|██████████| 50/50 [00:18<00:00,  2.77it/s, loss=0.0783] \n",
      "Epoch 84/100: 100%|██████████| 50/50 [00:18<00:00,  2.76it/s, loss=0.01]   \n",
      "Epoch 85/100: 100%|██████████| 50/50 [00:18<00:00,  2.76it/s, loss=0.0253] \n"
     ]
    },
    {
     "name": "stdout",
     "output_type": "stream",
     "text": [
      "Epoch 85: Loss: 0.025273878127336502\n"
     ]
    },
    {
     "name": "stderr",
     "output_type": "stream",
     "text": [
      "Epoch 86/100: 100%|██████████| 50/50 [00:18<00:00,  2.74it/s, loss=0.0482] \n",
      "Epoch 87/100: 100%|██████████| 50/50 [00:18<00:00,  2.71it/s, loss=0.0222] \n",
      "Epoch 88/100: 100%|██████████| 50/50 [00:18<00:00,  2.77it/s, loss=0.00687]\n",
      "Epoch 89/100: 100%|██████████| 50/50 [00:18<00:00,  2.74it/s, loss=0.0537] \n",
      "Epoch 90/100: 100%|██████████| 50/50 [00:18<00:00,  2.75it/s, loss=0.0298] \n"
     ]
    },
    {
     "name": "stdout",
     "output_type": "stream",
     "text": [
      "Epoch 90: Loss: 0.02975546196103096\n",
      "Saved model at epoch: 90\n"
     ]
    },
    {
     "name": "stderr",
     "output_type": "stream",
     "text": [
      "Epoch 91/100: 100%|██████████| 50/50 [00:18<00:00,  2.77it/s, loss=0.023]  \n",
      "Epoch 92/100: 100%|██████████| 50/50 [00:18<00:00,  2.74it/s, loss=0.0352] \n",
      "Epoch 93/100: 100%|██████████| 50/50 [00:18<00:00,  2.77it/s, loss=0.0308] \n",
      "Epoch 94/100: 100%|██████████| 50/50 [00:18<00:00,  2.75it/s, loss=0.026]  \n",
      "Epoch 95/100: 100%|██████████| 50/50 [00:17<00:00,  2.78it/s, loss=0.02]   \n"
     ]
    },
    {
     "name": "stdout",
     "output_type": "stream",
     "text": [
      "Epoch 95: Loss: 0.019984759390354156\n"
     ]
    },
    {
     "name": "stderr",
     "output_type": "stream",
     "text": [
      "Epoch 96/100: 100%|██████████| 50/50 [00:18<00:00,  2.77it/s, loss=0.0159] \n",
      "Epoch 97/100: 100%|██████████| 50/50 [00:18<00:00,  2.76it/s, loss=0.0273] \n",
      "Epoch 98/100: 100%|██████████| 50/50 [00:18<00:00,  2.75it/s, loss=0.00655]\n",
      "Epoch 99/100: 100%|██████████| 50/50 [00:18<00:00,  2.77it/s, loss=0.0061] \n",
      "Epoch 100/100: 100%|██████████| 50/50 [00:18<00:00,  2.74it/s, loss=0.00626]\n"
     ]
    },
    {
     "name": "stdout",
     "output_type": "stream",
     "text": [
      "Epoch 100: Loss: 0.006262167822569609\n",
      "Saved model at epoch: 100\n",
      "Training complete.\n"
     ]
    }
   ],
   "source": [
    "CONFIG_FILE = \"config.yaml\"\n",
    "\n",
    "config = helpers.load_config(CONFIG_FILE)\n",
    "train.train_pipeline(config)"
   ]
  },
  {
   "cell_type": "code",
   "execution_count": null,
   "id": "9d23a8ec-1ddf-4c0c-bf46-90d21dc2040b",
   "metadata": {},
   "outputs": [],
   "source": []
  }
 ],
 "metadata": {
  "kernelspec": {
   "display_name": "Python 3 (ipykernel)",
   "language": "python",
   "name": "python3"
  },
  "language_info": {
   "codemirror_mode": {
    "name": "ipython",
    "version": 3
   },
   "file_extension": ".py",
   "mimetype": "text/x-python",
   "name": "python",
   "nbconvert_exporter": "python",
   "pygments_lexer": "ipython3",
   "version": "3.12.9"
  }
 },
 "nbformat": 4,
 "nbformat_minor": 5
}
